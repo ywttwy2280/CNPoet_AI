{
  "nbformat": 4,
  "nbformat_minor": 0,
  "metadata": {
    "colab": {
      "provenance": [],
      "authorship_tag": "ABX9TyMUvuk4avOL7F9tjvalIo76",
      "include_colab_link": true
    },
    "kernelspec": {
      "name": "python3",
      "display_name": "Python 3"
    },
    "language_info": {
      "name": "python"
    }
  },
  "cells": [
    {
      "cell_type": "markdown",
      "metadata": {
        "id": "view-in-github",
        "colab_type": "text"
      },
      "source": [
        "<a href=\"https://colab.research.google.com/github/ywttwy2280/CNPoet_AI/blob/main/CoLab_RAGtest.ipynb\" target=\"_parent\"><img src=\"https://colab.research.google.com/assets/colab-badge.svg\" alt=\"Open In Colab\"/></a>"
      ]
    },
    {
      "cell_type": "code",
      "source": [
        "import google.generativeai as genai\n",
        "\n",
        "GOOGLE_API_KEY = \"AIzaSyAhOdVBfjaPWdXtcFywQfp350fwkuQJJI\"  # Directly assign API key\n",
        "genai.configure(api_key=GOOGLE_API_KEY)"
      ],
      "metadata": {
        "id": "_62ntcS6bpur"
      },
      "execution_count": 26,
      "outputs": []
    },
    {
      "cell_type": "code",
      "source": [
        "from google.colab import files\n",
        "uploaded = files.upload()"
      ],
      "metadata": {
        "colab": {
          "base_uri": "https://localhost:8080/",
          "height": 74
        },
        "id": "ipPpBCUNffjo",
        "outputId": "5ffd2e4b-b6c5-44e5-f6f0-cc950931da54"
      },
      "execution_count": 33,
      "outputs": [
        {
          "output_type": "display_data",
          "data": {
            "text/plain": [
              "<IPython.core.display.HTML object>"
            ],
            "text/html": [
              "\n",
              "     <input type=\"file\" id=\"files-5c3052df-4f7f-4180-bcba-6744f4ee3fb4\" name=\"files[]\" multiple disabled\n",
              "        style=\"border:none\" />\n",
              "     <output id=\"result-5c3052df-4f7f-4180-bcba-6744f4ee3fb4\">\n",
              "      Upload widget is only available when the cell has been executed in the\n",
              "      current browser session. Please rerun this cell to enable.\n",
              "      </output>\n",
              "      <script>// Copyright 2017 Google LLC\n",
              "//\n",
              "// Licensed under the Apache License, Version 2.0 (the \"License\");\n",
              "// you may not use this file except in compliance with the License.\n",
              "// You may obtain a copy of the License at\n",
              "//\n",
              "//      http://www.apache.org/licenses/LICENSE-2.0\n",
              "//\n",
              "// Unless required by applicable law or agreed to in writing, software\n",
              "// distributed under the License is distributed on an \"AS IS\" BASIS,\n",
              "// WITHOUT WARRANTIES OR CONDITIONS OF ANY KIND, either express or implied.\n",
              "// See the License for the specific language governing permissions and\n",
              "// limitations under the License.\n",
              "\n",
              "/**\n",
              " * @fileoverview Helpers for google.colab Python module.\n",
              " */\n",
              "(function(scope) {\n",
              "function span(text, styleAttributes = {}) {\n",
              "  const element = document.createElement('span');\n",
              "  element.textContent = text;\n",
              "  for (const key of Object.keys(styleAttributes)) {\n",
              "    element.style[key] = styleAttributes[key];\n",
              "  }\n",
              "  return element;\n",
              "}\n",
              "\n",
              "// Max number of bytes which will be uploaded at a time.\n",
              "const MAX_PAYLOAD_SIZE = 100 * 1024;\n",
              "\n",
              "function _uploadFiles(inputId, outputId) {\n",
              "  const steps = uploadFilesStep(inputId, outputId);\n",
              "  const outputElement = document.getElementById(outputId);\n",
              "  // Cache steps on the outputElement to make it available for the next call\n",
              "  // to uploadFilesContinue from Python.\n",
              "  outputElement.steps = steps;\n",
              "\n",
              "  return _uploadFilesContinue(outputId);\n",
              "}\n",
              "\n",
              "// This is roughly an async generator (not supported in the browser yet),\n",
              "// where there are multiple asynchronous steps and the Python side is going\n",
              "// to poll for completion of each step.\n",
              "// This uses a Promise to block the python side on completion of each step,\n",
              "// then passes the result of the previous step as the input to the next step.\n",
              "function _uploadFilesContinue(outputId) {\n",
              "  const outputElement = document.getElementById(outputId);\n",
              "  const steps = outputElement.steps;\n",
              "\n",
              "  const next = steps.next(outputElement.lastPromiseValue);\n",
              "  return Promise.resolve(next.value.promise).then((value) => {\n",
              "    // Cache the last promise value to make it available to the next\n",
              "    // step of the generator.\n",
              "    outputElement.lastPromiseValue = value;\n",
              "    return next.value.response;\n",
              "  });\n",
              "}\n",
              "\n",
              "/**\n",
              " * Generator function which is called between each async step of the upload\n",
              " * process.\n",
              " * @param {string} inputId Element ID of the input file picker element.\n",
              " * @param {string} outputId Element ID of the output display.\n",
              " * @return {!Iterable<!Object>} Iterable of next steps.\n",
              " */\n",
              "function* uploadFilesStep(inputId, outputId) {\n",
              "  const inputElement = document.getElementById(inputId);\n",
              "  inputElement.disabled = false;\n",
              "\n",
              "  const outputElement = document.getElementById(outputId);\n",
              "  outputElement.innerHTML = '';\n",
              "\n",
              "  const pickedPromise = new Promise((resolve) => {\n",
              "    inputElement.addEventListener('change', (e) => {\n",
              "      resolve(e.target.files);\n",
              "    });\n",
              "  });\n",
              "\n",
              "  const cancel = document.createElement('button');\n",
              "  inputElement.parentElement.appendChild(cancel);\n",
              "  cancel.textContent = 'Cancel upload';\n",
              "  const cancelPromise = new Promise((resolve) => {\n",
              "    cancel.onclick = () => {\n",
              "      resolve(null);\n",
              "    };\n",
              "  });\n",
              "\n",
              "  // Wait for the user to pick the files.\n",
              "  const files = yield {\n",
              "    promise: Promise.race([pickedPromise, cancelPromise]),\n",
              "    response: {\n",
              "      action: 'starting',\n",
              "    }\n",
              "  };\n",
              "\n",
              "  cancel.remove();\n",
              "\n",
              "  // Disable the input element since further picks are not allowed.\n",
              "  inputElement.disabled = true;\n",
              "\n",
              "  if (!files) {\n",
              "    return {\n",
              "      response: {\n",
              "        action: 'complete',\n",
              "      }\n",
              "    };\n",
              "  }\n",
              "\n",
              "  for (const file of files) {\n",
              "    const li = document.createElement('li');\n",
              "    li.append(span(file.name, {fontWeight: 'bold'}));\n",
              "    li.append(span(\n",
              "        `(${file.type || 'n/a'}) - ${file.size} bytes, ` +\n",
              "        `last modified: ${\n",
              "            file.lastModifiedDate ? file.lastModifiedDate.toLocaleDateString() :\n",
              "                                    'n/a'} - `));\n",
              "    const percent = span('0% done');\n",
              "    li.appendChild(percent);\n",
              "\n",
              "    outputElement.appendChild(li);\n",
              "\n",
              "    const fileDataPromise = new Promise((resolve) => {\n",
              "      const reader = new FileReader();\n",
              "      reader.onload = (e) => {\n",
              "        resolve(e.target.result);\n",
              "      };\n",
              "      reader.readAsArrayBuffer(file);\n",
              "    });\n",
              "    // Wait for the data to be ready.\n",
              "    let fileData = yield {\n",
              "      promise: fileDataPromise,\n",
              "      response: {\n",
              "        action: 'continue',\n",
              "      }\n",
              "    };\n",
              "\n",
              "    // Use a chunked sending to avoid message size limits. See b/62115660.\n",
              "    let position = 0;\n",
              "    do {\n",
              "      const length = Math.min(fileData.byteLength - position, MAX_PAYLOAD_SIZE);\n",
              "      const chunk = new Uint8Array(fileData, position, length);\n",
              "      position += length;\n",
              "\n",
              "      const base64 = btoa(String.fromCharCode.apply(null, chunk));\n",
              "      yield {\n",
              "        response: {\n",
              "          action: 'append',\n",
              "          file: file.name,\n",
              "          data: base64,\n",
              "        },\n",
              "      };\n",
              "\n",
              "      let percentDone = fileData.byteLength === 0 ?\n",
              "          100 :\n",
              "          Math.round((position / fileData.byteLength) * 100);\n",
              "      percent.textContent = `${percentDone}% done`;\n",
              "\n",
              "    } while (position < fileData.byteLength);\n",
              "  }\n",
              "\n",
              "  // All done.\n",
              "  yield {\n",
              "    response: {\n",
              "      action: 'complete',\n",
              "    }\n",
              "  };\n",
              "}\n",
              "\n",
              "scope.google = scope.google || {};\n",
              "scope.google.colab = scope.google.colab || {};\n",
              "scope.google.colab._files = {\n",
              "  _uploadFiles,\n",
              "  _uploadFilesContinue,\n",
              "};\n",
              "})(self);\n",
              "</script> "
            ]
          },
          "metadata": {}
        },
        {
          "output_type": "stream",
          "name": "stdout",
          "text": [
            "Saving poems.json to poems.json\n"
          ]
        }
      ]
    },
    {
      "cell_type": "code",
      "source": [
        "import json\n",
        "\n",
        "# Replace with your uploaded file's name\n",
        "json_file = \"poems.json\"\n",
        "\n",
        "with open(json_file, \"r\", encoding=\"utf-8\") as f:\n",
        "    data = json.load(f)\n"
      ],
      "metadata": {
        "id": "DyHup6O3gd1d"
      },
      "execution_count": 44,
      "outputs": []
    },
    {
      "cell_type": "code",
      "source": [
        "from langchain.embeddings import HuggingFaceEmbeddings\n",
        "from langchain.vectorstores import Chroma\n",
        "from langchain.docstore.document import Document\n",
        "\n",
        "# Load embedding model\n",
        "embedding_model = HuggingFaceEmbeddings(model_name=\"sentence-transformers/all-MiniLM-L6-v2\")\n",
        "\n",
        "# Convert JSON data to Documents\n",
        "# Use \"title\" key if it contains the main content\n",
        "# You might need to adjust the key based on your JSON structure\n",
        "docs = [Document(page_content=item[\"title\"]) for item in data]\n",
        "\n",
        "# Store in ChromaDB\n",
        "vector_db = Chroma.from_documents(docs, embedding_model)\n",
        "\n",
        "print(\"✅ Data stored in ChromaDB!\")"
      ],
      "metadata": {
        "colab": {
          "base_uri": "https://localhost:8080/"
        },
        "id": "oD1YU_KkhKhq",
        "outputId": "4e7d7552-e8a2-4110-9a77-0d64e8387854"
      },
      "execution_count": 39,
      "outputs": [
        {
          "output_type": "stream",
          "name": "stdout",
          "text": [
            "✅ Data stored in ChromaDB!\n"
          ]
        }
      ]
    },
    {
      "cell_type": "code",
      "source": [
        "retriever = vector_db.as_retriever(search_type=\"similarity\", search_kwargs={\"k\": 3})"
      ],
      "metadata": {
        "id": "ULIF0q_lhsVm"
      },
      "execution_count": 40,
      "outputs": []
    },
    {
      "cell_type": "code",
      "source": [
        "# Gemini LLM model\n",
        "model = genai.GenerativeModel('gemini-2.0-flash')\n",
        "\n",
        "def rag_query(query):\n",
        "    # Retrieve relevant context\n",
        "    docs = retriever.get_relevant_documents(query)\n",
        "    context = \"\\n\".join([doc.page_content for doc in docs])\n",
        "\n",
        "    # Generate response using Gemini\n",
        "    response = model.generate_content(f\"Context: {context}\\n\\nQuestion: {query}\")\n",
        "\n",
        "    return response.text\n",
        "\n",
        "# Example query\n",
        "query = \"翻译成英文：徐志摩《我不知道风是在哪一个方向吹》\"\n",
        "response = rag_query(query)\n",
        "print(\"诗歌英文版:\", response)"
      ],
      "metadata": {
        "colab": {
          "base_uri": "https://localhost:8080/",
          "height": 876
        },
        "id": "ruE1j4JJhxHJ",
        "outputId": "a69760c7-066d-483d-aaf7-e3caf7e71653"
      },
      "execution_count": 43,
      "outputs": [
        {
          "output_type": "stream",
          "name": "stdout",
          "text": [
            "诗歌英文版: Okay, here are a few English translations of Xu Zhimo's \"我不知道风是在哪一个方向吹\" (Wo bu zhidao feng shi zai na yige fangxiang chui - I don't know which direction the wind is blowing), along with some considerations and different styles:\n",
            "\n",
            "**Option 1:  A Literal and Simple Approach**\n",
            "\n",
            "> I don't know which direction the wind is blowing.\n",
            "> I'm always drifting in dreams.\n",
            "> I dreamed of sailing on a flower boat,\n",
            "> Seeking you, seeking you...\n",
            "\n",
            "**Explanation:** This is a very straightforward translation, aiming for accuracy in meaning.  It preserves the simple, direct language of the original.  It's a good starting point.\n",
            "\n",
            "**Option 2:  More Poetic and Evocative**\n",
            "\n",
            "> I know not whence the wind may blow,\n",
            "> Drifting in dreams, I come and go.\n",
            "> Dreaming I sail on a flowered barge,\n",
            "> Seeking you, seeking you, in the large... (sea/world/vastness)\n",
            "\n",
            "**Explanation:** This version uses slightly more archaic and poetic language (\"whence,\" \"come and go,\" \"flowered barge\") to give a more literary feel, closer to the traditional Chinese poetic style.  The \"...in the large...\" is left open because the original Chinese doesn't specify *where* he is seeking her, emphasizing the vastness and perhaps hopelessness of the search.  You could choose a more specific word like \"sea,\" \"world,\" or \"vastness\" depending on your interpretation.\n",
            "\n",
            "**Option 3: Focusing on the Feeling of Uncertainty**\n",
            "\n",
            "> From what direction does the wind arise, I cannot say,\n",
            "> Lost in dreams, I drift and sway.\n",
            "> I dreamed of a flower-laden boat, afloat,\n",
            "> Seeking you, ever seeking, remote.\n",
            "\n",
            "**Explanation:** This version emphasizes the uncertainty and feeling of being lost. \"Sway\" conveys the feeling of being moved by forces beyond control. \"Remote\" at the end highlights the distance and potential unattainability of the beloved.\n",
            "\n",
            "**Option 4: A Modern and Free Translation**\n",
            "\n",
            "> I have no idea where the wind's coming from.\n",
            "> Lost in a dream, I'm just drifting along.\n",
            "> I dreamed I was sailing on a boat of flowers,\n",
            "> Looking for you, always looking...\n",
            "\n",
            "**Explanation:** This is a more contemporary translation, using simpler and more conversational language.  It sacrifices some of the formality for accessibility.\n",
            "\n",
            "**Considerations When Translating Poetry:**\n",
            "\n",
            "*   **Literal vs. Figurative:**  A completely literal translation can often sound awkward or lose the poetic beauty.  You need to balance accuracy with creating something that reads well in English.\n",
            "*   **Rhyme and Rhythm:** The original poem may have rhyme or rhythm that is difficult or impossible to replicate perfectly in English.  Decide whether to prioritize meaning, sound, or a combination of both.  In this case, the original poem is quite free verse, so replicating rhyme isn't necessary.\n",
            "*   **Cultural Context:**  Sometimes, a phrase or image has a specific cultural meaning that needs to be explained or adapted for an English-speaking audience.\n",
            "*   **Your Interpretation:** Translation is always an act of interpretation. Your understanding of the poem will influence your choices.\n",
            "\n",
            "Ultimately, the best translation depends on your goals and the audience you are trying to reach. Choose the version that best captures the *essence* and *feeling* of the original poem.\n",
            "\n"
          ]
        }
      ]
    }
  ]
}